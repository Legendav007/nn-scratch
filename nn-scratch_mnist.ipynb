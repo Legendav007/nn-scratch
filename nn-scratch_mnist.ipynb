{
 "cells": [
  {
   "cell_type": "code",
   "execution_count": null,
   "id": "15631f6e",
   "metadata": {
    "_cell_guid": "b1076dfc-b9ad-4769-8c92-a6c4dae69d19",
    "_uuid": "8f2839f25d086af736a60e9eeb907d3b93b6e0e5",
    "papermill": {
     "duration": 0.023931,
     "end_time": "2024-06-30T09:22:40.148208",
     "exception": false,
     "start_time": "2024-06-30T09:22:40.124277",
     "status": "completed"
    },
    "tags": []
   },
   "outputs": [],
   "source": []
  },
  {
   "cell_type": "code",
   "execution_count": 8,
   "id": "c57da363",
   "metadata": {
    "papermill": {
     "duration": 0.993934,
     "end_time": "2024-06-30T09:22:41.146923",
     "exception": false,
     "start_time": "2024-06-30T09:22:40.152989",
     "status": "completed"
    },
    "tags": []
   },
   "outputs": [],
   "source": [
    "import pandas as pd\n",
    "import numpy as np\n",
    "import matplotlib.pyplot as plt\n",
    "import os"
   ]
  },
  {
   "cell_type": "code",
   "execution_count": 9,
   "id": "6b9674ef",
   "metadata": {
    "papermill": {
     "duration": 3.363833,
     "end_time": "2024-06-30T09:22:44.515361",
     "exception": false,
     "start_time": "2024-06-30T09:22:41.151528",
     "status": "completed"
    },
    "tags": []
   },
   "outputs": [
    {
     "data": {
      "text/html": [
       "<div>\n",
       "<style scoped>\n",
       "    .dataframe tbody tr th:only-of-type {\n",
       "        vertical-align: middle;\n",
       "    }\n",
       "\n",
       "    .dataframe tbody tr th {\n",
       "        vertical-align: top;\n",
       "    }\n",
       "\n",
       "    .dataframe thead th {\n",
       "        text-align: right;\n",
       "    }\n",
       "</style>\n",
       "<table border=\"1\" class=\"dataframe\">\n",
       "  <thead>\n",
       "    <tr style=\"text-align: right;\">\n",
       "      <th></th>\n",
       "      <th>label</th>\n",
       "      <th>pixel0</th>\n",
       "      <th>pixel1</th>\n",
       "      <th>pixel2</th>\n",
       "      <th>pixel3</th>\n",
       "      <th>pixel4</th>\n",
       "      <th>pixel5</th>\n",
       "      <th>pixel6</th>\n",
       "      <th>pixel7</th>\n",
       "      <th>pixel8</th>\n",
       "      <th>...</th>\n",
       "      <th>pixel774</th>\n",
       "      <th>pixel775</th>\n",
       "      <th>pixel776</th>\n",
       "      <th>pixel777</th>\n",
       "      <th>pixel778</th>\n",
       "      <th>pixel779</th>\n",
       "      <th>pixel780</th>\n",
       "      <th>pixel781</th>\n",
       "      <th>pixel782</th>\n",
       "      <th>pixel783</th>\n",
       "    </tr>\n",
       "  </thead>\n",
       "  <tbody>\n",
       "    <tr>\n",
       "      <th>0</th>\n",
       "      <td>1</td>\n",
       "      <td>0</td>\n",
       "      <td>0</td>\n",
       "      <td>0</td>\n",
       "      <td>0</td>\n",
       "      <td>0</td>\n",
       "      <td>0</td>\n",
       "      <td>0</td>\n",
       "      <td>0</td>\n",
       "      <td>0</td>\n",
       "      <td>...</td>\n",
       "      <td>0</td>\n",
       "      <td>0</td>\n",
       "      <td>0</td>\n",
       "      <td>0</td>\n",
       "      <td>0</td>\n",
       "      <td>0</td>\n",
       "      <td>0</td>\n",
       "      <td>0</td>\n",
       "      <td>0</td>\n",
       "      <td>0</td>\n",
       "    </tr>\n",
       "    <tr>\n",
       "      <th>1</th>\n",
       "      <td>0</td>\n",
       "      <td>0</td>\n",
       "      <td>0</td>\n",
       "      <td>0</td>\n",
       "      <td>0</td>\n",
       "      <td>0</td>\n",
       "      <td>0</td>\n",
       "      <td>0</td>\n",
       "      <td>0</td>\n",
       "      <td>0</td>\n",
       "      <td>...</td>\n",
       "      <td>0</td>\n",
       "      <td>0</td>\n",
       "      <td>0</td>\n",
       "      <td>0</td>\n",
       "      <td>0</td>\n",
       "      <td>0</td>\n",
       "      <td>0</td>\n",
       "      <td>0</td>\n",
       "      <td>0</td>\n",
       "      <td>0</td>\n",
       "    </tr>\n",
       "    <tr>\n",
       "      <th>2</th>\n",
       "      <td>1</td>\n",
       "      <td>0</td>\n",
       "      <td>0</td>\n",
       "      <td>0</td>\n",
       "      <td>0</td>\n",
       "      <td>0</td>\n",
       "      <td>0</td>\n",
       "      <td>0</td>\n",
       "      <td>0</td>\n",
       "      <td>0</td>\n",
       "      <td>...</td>\n",
       "      <td>0</td>\n",
       "      <td>0</td>\n",
       "      <td>0</td>\n",
       "      <td>0</td>\n",
       "      <td>0</td>\n",
       "      <td>0</td>\n",
       "      <td>0</td>\n",
       "      <td>0</td>\n",
       "      <td>0</td>\n",
       "      <td>0</td>\n",
       "    </tr>\n",
       "    <tr>\n",
       "      <th>3</th>\n",
       "      <td>4</td>\n",
       "      <td>0</td>\n",
       "      <td>0</td>\n",
       "      <td>0</td>\n",
       "      <td>0</td>\n",
       "      <td>0</td>\n",
       "      <td>0</td>\n",
       "      <td>0</td>\n",
       "      <td>0</td>\n",
       "      <td>0</td>\n",
       "      <td>...</td>\n",
       "      <td>0</td>\n",
       "      <td>0</td>\n",
       "      <td>0</td>\n",
       "      <td>0</td>\n",
       "      <td>0</td>\n",
       "      <td>0</td>\n",
       "      <td>0</td>\n",
       "      <td>0</td>\n",
       "      <td>0</td>\n",
       "      <td>0</td>\n",
       "    </tr>\n",
       "    <tr>\n",
       "      <th>4</th>\n",
       "      <td>0</td>\n",
       "      <td>0</td>\n",
       "      <td>0</td>\n",
       "      <td>0</td>\n",
       "      <td>0</td>\n",
       "      <td>0</td>\n",
       "      <td>0</td>\n",
       "      <td>0</td>\n",
       "      <td>0</td>\n",
       "      <td>0</td>\n",
       "      <td>...</td>\n",
       "      <td>0</td>\n",
       "      <td>0</td>\n",
       "      <td>0</td>\n",
       "      <td>0</td>\n",
       "      <td>0</td>\n",
       "      <td>0</td>\n",
       "      <td>0</td>\n",
       "      <td>0</td>\n",
       "      <td>0</td>\n",
       "      <td>0</td>\n",
       "    </tr>\n",
       "  </tbody>\n",
       "</table>\n",
       "<p>5 rows × 785 columns</p>\n",
       "</div>"
      ],
      "text/plain": [
       "   label  pixel0  pixel1  pixel2  pixel3  pixel4  pixel5  pixel6  pixel7  \\\n",
       "0      1       0       0       0       0       0       0       0       0   \n",
       "1      0       0       0       0       0       0       0       0       0   \n",
       "2      1       0       0       0       0       0       0       0       0   \n",
       "3      4       0       0       0       0       0       0       0       0   \n",
       "4      0       0       0       0       0       0       0       0       0   \n",
       "\n",
       "   pixel8  ...  pixel774  pixel775  pixel776  pixel777  pixel778  pixel779  \\\n",
       "0       0  ...         0         0         0         0         0         0   \n",
       "1       0  ...         0         0         0         0         0         0   \n",
       "2       0  ...         0         0         0         0         0         0   \n",
       "3       0  ...         0         0         0         0         0         0   \n",
       "4       0  ...         0         0         0         0         0         0   \n",
       "\n",
       "   pixel780  pixel781  pixel782  pixel783  \n",
       "0         0         0         0         0  \n",
       "1         0         0         0         0  \n",
       "2         0         0         0         0  \n",
       "3         0         0         0         0  \n",
       "4         0         0         0         0  \n",
       "\n",
       "[5 rows x 785 columns]"
      ]
     },
     "execution_count": 9,
     "metadata": {},
     "output_type": "execute_result"
    }
   ],
   "source": [
    "df  = pd.read_csv(\"train.csv\")\n",
    "df.head()"
   ]
  },
  {
   "cell_type": "code",
   "execution_count": 10,
   "id": "be8ac7f2",
   "metadata": {
    "papermill": {
     "duration": 0.82457,
     "end_time": "2024-06-30T09:22:45.344815",
     "exception": false,
     "start_time": "2024-06-30T09:22:44.520245",
     "status": "completed"
    },
    "tags": []
   },
   "outputs": [],
   "source": [
    "df = np.array(df)\n",
    "m , n = df.shape\n",
    "np.random.shuffle(df)\n",
    "df_dev = df[0:1000].T\n",
    "x_dev = df_dev[1:n]\n",
    "x_dev = x_dev/255\n",
    "y_dev = df_dev[0]\n",
    "\n",
    "df_train = df[1000:m].T\n",
    "x_train = df_train[1:n]\n",
    "x_train = x_train/255\n",
    "m_train = x_train.shape[1]\n",
    "y_train = df_train[0]"
   ]
  },
  {
   "cell_type": "code",
   "execution_count": 11,
   "id": "9f9bbff3",
   "metadata": {
    "papermill": {
     "duration": 0.01653,
     "end_time": "2024-06-30T09:22:45.366804",
     "exception": false,
     "start_time": "2024-06-30T09:22:45.350274",
     "status": "completed"
    },
    "tags": []
   },
   "outputs": [
    {
     "data": {
      "text/plain": [
       "(784, 41000)"
      ]
     },
     "execution_count": 11,
     "metadata": {},
     "output_type": "execute_result"
    }
   ],
   "source": [
    "x_train.shape"
   ]
  },
  {
   "cell_type": "code",
   "execution_count": 12,
   "id": "89200ef6",
   "metadata": {
    "papermill": {
     "duration": 0.020417,
     "end_time": "2024-06-30T09:22:45.392319",
     "exception": false,
     "start_time": "2024-06-30T09:22:45.371902",
     "status": "completed"
    },
    "tags": []
   },
   "outputs": [],
   "source": [
    "def in_params():\n",
    "    w1 = np.random.rand(10,784) - 0.5\n",
    "    b1 = np.random.rand(10,1) - 0.5\n",
    "    w2 = np.random.rand(10,10) - 0.5\n",
    "    b2 = np.random.rand(10,1) - 0.5\n",
    "\n",
    "    return w1 , b1 , w2 , b2\n",
    "def ReLu(x):\n",
    "    return np.maximum(x,0)\n",
    "def softmax(x):\n",
    "    a =  np.exp(x)/sum(np.exp(x))\n",
    "    return a\n",
    "def forward_prop(w1,b1,w2,b2,x):\n",
    "    Z1 = w1.dot(x)+b1\n",
    "    A1 = ReLu(Z1)\n",
    "    Z2 = w2.dot(A1)+b2\n",
    "    A2 = softmax(Z2)\n",
    "    return Z1 , A1 , Z2 , A2\n",
    "def one_hot(y):\n",
    "    one_hot_y = np.zeros((y.size , y.max()+1))\n",
    "    one_hot_y[np.arange(y.size),y] = 1\n",
    "    one_hot_y = one_hot_y.T\n",
    "    return one_hot_y\n",
    "def der_relu(x):\n",
    "    return x>0\n",
    "def backward_prop(z1,a1,z2,a2,w2,x,y):\n",
    "    m = y.size\n",
    "    one_hot_y = one_hot(y)\n",
    "    dz2 = a2 - one_hot_y\n",
    "    dw2 = (1 / m) * dz2.dot(a1.T)\n",
    "    db2 = (1 / m) * np.sum(dz2)\n",
    "    dz1 = w2.T.dot(dz2) * der_relu(z1)\n",
    "    dw1 = (1 / m) * dz1.dot(x.T)\n",
    "    db1 = (1 / m) * np.sum(dz1)\n",
    "    return dw1 , db1 , dw2 , db2\n",
    "def update(w1,b1,w2,b2,dw1,db1,dw2,db2,alp):\n",
    "    w1 = w1 - alp*dw1\n",
    "    w2 = w2 - alp*dw2\n",
    "    b1 = b1 - alp*db1\n",
    "    b2 = b2 - alp*db2\n",
    "    return w1 , b1 , w2, b2"
   ]
  },
  {
   "cell_type": "code",
   "execution_count": 13,
   "id": "ef87c4a5",
   "metadata": {
    "papermill": {
     "duration": 0.016978,
     "end_time": "2024-06-30T09:22:45.414301",
     "exception": false,
     "start_time": "2024-06-30T09:22:45.397323",
     "status": "completed"
    },
    "tags": []
   },
   "outputs": [],
   "source": [
    "def get_predictions(a2):\n",
    "    return np.argmax(a2,0)\n",
    "def get_accuracy(predictions,y):\n",
    "    print(predictions,y)\n",
    "    return np.sum(predictions==y)/y.size\n",
    "def gradient_des(x,y,itera,alp):\n",
    "    w1 , b1 , w2 , b2 = in_params()\n",
    "    for i in range(itera):\n",
    "        z1 , a1 , z2 , a2 = forward_prop(w1,b1,w2,b2,x)\n",
    "        dw1 , db1 , dw2 , db2 = backward_prop(z1,a1,z2,a2,w2,x,y)\n",
    "        w1 , b1 , w2 , b2 = update(w1,b1,w2,b2,dw1,db1,dw2,db2,alp)\n",
    "        if i%100==0:\n",
    "            print(\"Iterations: \",i)\n",
    "            print(\"Accuracy: \",get_accuracy(get_predictions(a2) , y))\n",
    "    return w1,b1,w2,b2"
   ]
  },
  {
   "cell_type": "code",
   "execution_count": 14,
   "id": "fc6d9470",
   "metadata": {
    "papermill": {
     "duration": 108.017109,
     "end_time": "2024-06-30T09:24:33.436514",
     "exception": false,
     "start_time": "2024-06-30T09:22:45.419405",
     "status": "completed"
    },
    "tags": []
   },
   "outputs": [
    {
     "name": "stdout",
     "output_type": "stream",
     "text": [
      "Iterations:  0\n",
      "[8 5 8 ... 2 7 9] [3 6 7 ... 5 8 4]\n",
      "Accuracy:  0.12363414634146341\n",
      "Iterations:  100\n",
      "[5 6 5 ... 3 8 9] [3 6 7 ... 5 8 4]\n",
      "Accuracy:  0.6569756097560976\n"
     ]
    }
   ],
   "source": [
    "w1 , b1 , w2 , b2 = gradient_des(x_train,y_train,itera = 200,alp = 0.1)"
   ]
  },
  {
   "cell_type": "code",
   "execution_count": 15,
   "id": "892c37d0",
   "metadata": {
    "papermill": {
     "duration": 0.028873,
     "end_time": "2024-06-30T09:24:33.475416",
     "exception": false,
     "start_time": "2024-06-30T09:24:33.446543",
     "status": "completed"
    },
    "tags": []
   },
   "outputs": [],
   "source": [
    "def make_pred(x,w1,b1,w2,b2):\n",
    "    z1,a1,z2,a2 = forward_prop(w1,b1,w2,b2,x)\n",
    "    predictions = get_predictions(a2)\n",
    "    return predictions\n",
    "def test_pred(ind , w1,b1,w2,b2):\n",
    "    curr_img = x_train[:,ind,None]\n",
    "    prediction = make_pred(curr_img,w1,b1,w2,b2)\n",
    "    label = y_train[ind]\n",
    "    print(\"Prediction: \",prediction)\n",
    "    print(\"Label\",label)\n",
    "    \n",
    "    curr_img = curr_img.reshape((28,28))*255\n",
    "    plt.gray()\n",
    "    plt.imshow(curr_img,interpolation = \"nearest\")\n",
    "    plt.show()"
   ]
  },
  {
   "cell_type": "code",
   "execution_count": 22,
   "id": "8014a89b",
   "metadata": {
    "papermill": {
     "duration": 0.235216,
     "end_time": "2024-06-30T09:24:33.720009",
     "exception": false,
     "start_time": "2024-06-30T09:24:33.484793",
     "status": "completed"
    },
    "tags": []
   },
   "outputs": [
    {
     "name": "stdout",
     "output_type": "stream",
     "text": [
      "Prediction:  [5]\n",
      "Label 7\n"
     ]
    },
    {
     "data": {
      "image/png": "[encoded data removed]",
      "text/plain": [
       "<Figure size 640x480 with 1 Axes>"
      ]
     },
     "metadata": {},
     "output_type": "display_data"
    }
   ],
   "source": [
    "test_pred(2,w1,b1,w2,b2)"
   ]
  },
  {
   "cell_type": "code",
   "execution_count": null,
   "id": "ca6fb689",
   "metadata": {
    "papermill": {
     "duration": 2.079,
     "end_time": "2024-06-30T09:24:35.805787",
     "exception": false,
     "start_time": "2024-06-30T09:24:33.726787",
     "status": "completed"
    },
    "tags": []
   },
   "outputs": [],
   "source": [
    "df_test = pd.read_csv(\"test.csv\")\n",
    "df_test = df_test.T\n",
    "df_test = df_test/255\n",
    "test_prediction = make_pred(df_test,w1,b1,w2,b2)\n"
   ]
  },
  {
   "cell_type": "code",
   "execution_count": null,
   "id": "6511fe85",
   "metadata": {
    "papermill": {
     "duration": 0.037733,
     "end_time": "2024-06-30T09:24:35.854147",
     "exception": false,
     "start_time": "2024-06-30T09:24:35.816414",
     "status": "completed"
    },
    "tags": []
   },
   "outputs": [],
   "source": [
    "test_prediction"
   ]
  },
  {
   "cell_type": "code",
   "execution_count": null,
   "id": "326a5721",
   "metadata": {
    "papermill": {
     "duration": 0.044571,
     "end_time": "2024-06-30T09:24:35.908784",
     "exception": false,
     "start_time": "2024-06-30T09:24:35.864213",
     "status": "completed"
    },
    "tags": []
   },
   "outputs": [],
   "source": [
    "submi = pd.DataFrame({'ImageId':range(1,len(test_prediction)+1) , 'Label':test_prediction})\n",
    "submi.to_csv('submission2.csv', index=False)\n"
   ]
  },
  {
   "cell_type": "code",
   "execution_count": null,
   "id": "eecd0457",
   "metadata": {
    "papermill": {
     "duration": 0.005589,
     "end_time": "2024-06-30T09:24:35.920460",
     "exception": false,
     "start_time": "2024-06-30T09:24:35.914871",
     "status": "completed"
    },
    "tags": []
   },
   "outputs": [],
   "source": []
  },
  {
   "cell_type": "code",
   "execution_count": null,
   "id": "b3ec70ad",
   "metadata": {
    "papermill": {
     "duration": 0.00571,
     "end_time": "2024-06-30T09:24:35.932928",
     "exception": false,
     "start_time": "2024-06-30T09:24:35.927218",
     "status": "completed"
    },
    "tags": []
   },
   "outputs": [],
   "source": []
  },
  {
   "cell_type": "code",
   "execution_count": null,
   "id": "ca546245",
   "metadata": {
    "papermill": {
     "duration": 0.005622,
     "end_time": "2024-06-30T09:24:35.944423",
     "exception": false,
     "start_time": "2024-06-30T09:24:35.938801",
     "status": "completed"
    },
    "tags": []
   },
   "outputs": [],
   "source": []
  }
 ],
 "metadata": {
  "kaggle": {
   "accelerator": "none",
   "dataSources": [
    {
     "databundleVersionId": 861823,
     "sourceId": 3004,
     "sourceType": "competition"
    }
   ],
   "dockerImageVersionId": 30732,
   "isGpuEnabled": false,
   "isInternetEnabled": false,
   "language": "python",
   "sourceType": "notebook"
  },
  "kernelspec": {
   "display_name": "Python 3 (ipykernel)",
   "language": "python",
   "name": "python3"
  },
  "language_info": {
   "codemirror_mode": {
    "name": "ipython",
    "version": 3
   },
   "file_extension": ".py",
   "mimetype": "text/x-python",
   "name": "python",
   "nbconvert_exporter": "python",
   "pygments_lexer": "ipython3",
   "version": "3.11.9"
  },
  "papermill": {
   "default_parameters": {},
   "duration": 119.275601,
   "end_time": "2024-06-30T09:24:36.471542",
   "environment_variables": {},
   "exception": null,
   "input_path": "__notebook__.ipynb",
   "output_path": "__notebook__.ipynb",
   "parameters": {},
   "start_time": "2024-06-30T09:22:37.195941",
   "version": "2.5.0"
  }
 },
 "nbformat": 4,
 "nbformat_minor": 5
}
